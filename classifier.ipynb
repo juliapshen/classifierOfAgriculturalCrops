{
  "cells": [
    {
      "cell_type": "code",
      "execution_count": null,
      "metadata": {
        "id": "TfrWATeiTzBA"
      },
      "outputs": [],
      "source": [
        "from google.colab import files\n",
        "import ipywidgets as widgets\n",
        "from keras.models import load_model\n",
        "from google.colab import drive\n",
        "import cv2\n",
        "import os\n",
        "import numpy as np\n",
        "import tensorflow as tf\n",
        "from tensorflow.keras.applications import VGG19\n",
        "from tensorflow.keras.models import Sequential\n",
        "from tensorflow.keras.layers import Flatten, Dense, BatchNormalization, Dropout\n",
        "from tensorflow.keras.regularizers import l2, l1\n",
        "from PIL import Image\n",
        "import sys\n",
        "import io\n",
        "import imghdr"
      ]
    },
    {
      "cell_type": "code",
      "execution_count": null,
      "metadata": {
        "id": "XqKEZKbnuduw"
      },
      "outputs": [],
      "source": [
        "from google.colab import drive\n",
        "drive.mount('/content/drive')\n",
        "\n",
        "!ls \"/content/drive/My Drive\""
      ]
    },
    {
      "cell_type": "code",
      "source": [
        "base_dir = '/content/drive/MyDrive/tiff'"
      ],
      "metadata": {
        "id": "p774a2rOc-sa"
      },
      "execution_count": null,
      "outputs": []
    },
    {
      "cell_type": "markdown",
      "source": [
        "Функция загрузки предварительно обученных моделей"
      ],
      "metadata": {
        "id": "8wP0uyq6egS7"
      }
    },
    {
      "cell_type": "code",
      "source": [
        "def crate_model(path_weights):\n",
        "  img_width, img_height = 122, 122\n",
        "  input_shape = (img_width, img_height, 3)\n",
        "  base_model_vgg = VGG19(weights='imagenet', include_top=False, input_shape=input_shape)\n",
        "  for layer in base_model_vgg.layers:\n",
        "    layer.trainable = False\n",
        "\n",
        "  for layer in base_model_vgg.layers[15:]:\n",
        "    layer.trainable = True\n",
        "  model_vgg = Sequential()\n",
        "  model_vgg.add(base_model_vgg)\n",
        "  model_vgg.add(Flatten())\n",
        "  model_vgg.add(Dense(1024, activation='relu'))\n",
        "  model_vgg.add(BatchNormalization())\n",
        "  model_vgg.add(Dropout(0.4))\n",
        "  model_vgg.add(Dense(512, activation='relu'))\n",
        "  model_vgg.add(BatchNormalization())\n",
        "  model_vgg.add(Dropout(0.4))\n",
        "  model_vgg.add(Dense(256, activation='relu'))\n",
        "  model_vgg.add(BatchNormalization())\n",
        "  model_vgg.add(Dropout(0.4))\n",
        "\n",
        "  model_vgg.add(Dense(1, activation='sigmoid',\n",
        "                      kernel_regularizer=tf.keras.regularizers.l2(0.01)))\n",
        "\n",
        "  model_vgg.load_weights(path_weights)\n",
        "  return model_vgg"
      ],
      "metadata": {
        "id": "OmKeAecqPH7I"
      },
      "execution_count": null,
      "outputs": []
    },
    {
      "cell_type": "code",
      "source": [
        "model_1 = crate_model('/content/drive/MyDrive/Снимки_tif/weights/model_vgg19_png_1_new_1206.weights.h5')\n",
        "model_2 = crate_model('/content/drive/MyDrive/Снимки_tif/weights/model_vgg19_png_2_new_1206.weights.h5')\n",
        "model_3 = crate_model('/content/drive/MyDrive/Снимки_tif/weights/model_vgg19_png_3_new_1206.weights.h5')\n",
        "model_4 = crate_model('/content/drive/MyDrive/Снимки_tif/weights/model_vgg19_png_4_new_1206.weights.h5')"
      ],
      "metadata": {
        "id": "qSy9gH1nif-l"
      },
      "execution_count": null,
      "outputs": []
    },
    {
      "cell_type": "markdown",
      "source": [
        "Функция обработки изображений"
      ],
      "metadata": {
        "id": "pq4vshydezHo"
      }
    },
    {
      "cell_type": "code",
      "source": [
        "def image_create(image_path):\n",
        "    png_path = image_path.split('.')[0] + '.png'\n",
        "    image = cv2.imread(image_path, cv2.IMREAD_UNCHANGED)\n",
        "    normalized_image = cv2.normalize(image, None, 0, 65535, cv2.NORM_MINMAX)\n",
        "    resized_image = cv2.resize(normalized_image, (122, 122), interpolation=cv2.INTER_CUBIC)\n",
        "    resized_image_pil = Image.fromarray(resized_image)\n",
        "    resized_image_pil.save(png_path, \"PNG\", compress_level=0, bits=16)\n",
        "    return png_path\n"
      ],
      "metadata": {
        "id": "q97bAG3sQrtc"
      },
      "execution_count": null,
      "outputs": []
    },
    {
      "cell_type": "markdown",
      "source": [
        "Функция предсказания вида агрокультур"
      ],
      "metadata": {
        "id": "IiAxuUfne17t"
      }
    },
    {
      "cell_type": "code",
      "execution_count": null,
      "metadata": {
        "id": "__Fdbzy2SzUH"
      },
      "outputs": [],
      "source": [
        "def predict_image(png_path, model_vgg):\n",
        "    png_image = cv2.imread(str(png_path))\n",
        "    input_image = np.expand_dims(png_image, axis=0)\n",
        "    predictions = model_vgg.predict(input_image)\n",
        "    pr_rounded = np.round(predictions, 3)\n",
        "    return pr_rounded[0, 0]"
      ]
    },
    {
      "cell_type": "markdown",
      "source": [
        "Функция проверки формата загружаемых данных"
      ],
      "metadata": {
        "id": "UWLBh2nSfBNS"
      }
    },
    {
      "cell_type": "code",
      "source": [
        "def check_file_type(filename, file_content):\n",
        "    image_type = imghdr.what(None, h=file_content)\n",
        "    if image_type:\n",
        "        return True\n",
        "    else:\n",
        "        print(f'Файл {filename} не является изображением. Файл не будет загружен.')\n",
        "        return False"
      ],
      "metadata": {
        "id": "Bg2pgJUzwrmT"
      },
      "execution_count": null,
      "outputs": []
    },
    {
      "cell_type": "markdown",
      "source": [
        "Функция загрузки файлов"
      ],
      "metadata": {
        "id": "kqTzt0TGe7u8"
      }
    },
    {
      "cell_type": "code",
      "source": [
        "uploaded_files = []\n",
        "\n",
        "def upload_file(button):\n",
        "    global uploaded_files\n",
        "    uploaded_files = []\n",
        "    upload = files.upload()\n",
        "\n",
        "    for filename, file_content in upload.items():\n",
        "        if check_file_type(filename, file_content):\n",
        "            file_paths = [filename]\n",
        "            uploaded_files.extend(file_paths)\n",
        "            print('Файл(ы) загружен(ы):', ', '.join(file_paths))\n"
      ],
      "metadata": {
        "id": "JBNOWWFNvV94"
      },
      "execution_count": null,
      "outputs": []
    },
    {
      "cell_type": "markdown",
      "source": [
        "Функция очистки данных"
      ],
      "metadata": {
        "id": "KPmr3FWsfhxz"
      }
    },
    {
      "cell_type": "code",
      "source": [
        "def clear_data(button):\n",
        "    uploaded_files.clear()\n",
        "    clear_output()\n",
        "    print('Данные удалены')"
      ],
      "metadata": {
        "id": "NpdBejB15Ujq"
      },
      "execution_count": null,
      "outputs": []
    },
    {
      "cell_type": "markdown",
      "source": [
        "Функция выполнения последовательных предсказаний вероятности принадлежности каждого загруженного изображения к заданным классам"
      ],
      "metadata": {
        "id": "I_EFzn7QgC_N"
      }
    },
    {
      "cell_type": "code",
      "source": [
        "def main(button):\n",
        "    errors_count = 0\n",
        "    culture_probabilities = {\n",
        "        \"пшеница яровая\": model_1,\n",
        "        \"пшеница озимая\": model_2,\n",
        "        \"свёкла сахарная\": model_3,\n",
        "        \"лён\": model_4\n",
        "    }\n",
        "\n",
        "    if not uploaded_files:\n",
        "        print(\"Отсутствуют загруженные файлы. Программа завершает работу.\")\n",
        "        return\n",
        "\n",
        "    for file_path in uploaded_files:\n",
        "        png_path = image_create(file_path)\n",
        "\n",
        "        results = {}\n",
        "        for culture, model in culture_probabilities.items():\n",
        "            result = predict_image(png_path, model)\n",
        "            results[culture] = result\n",
        "\n",
        "        print(f\"На снимке {png_path} присутствует:\")\n",
        "        for culture, result in results.items():\n",
        "            print(f\"{culture} с вероятностью: {result:.3f}\")\n",
        "\n",
        "        print(\"_______________________________________________________________________________________________________________________________________________________\\n\")\n"
      ],
      "metadata": {
        "id": "dmtuzTNv5VxK"
      },
      "execution_count": null,
      "outputs": []
    },
    {
      "cell_type": "markdown",
      "source": [
        "Интерфейс"
      ],
      "metadata": {
        "id": "yCZePvipgK-A"
      }
    },
    {
      "cell_type": "code",
      "source": [
        "import ipywidgets as widgets\n",
        "from IPython.display import display, HTML, clear_output\n",
        "from ipywidgets import HBox, VBox\n",
        "\n",
        "upload_button = widgets.Button(description='Загрузить файл')\n",
        "upload_button.on_click(upload_file)\n",
        "\n",
        "recognize_button = widgets.Button(description='Распознать')\n",
        "recognize_button.on_click(main)\n",
        "\n",
        "\n",
        "clear_button = widgets.Button(description='Очистить данные')\n",
        "clear_button.on_click(clear_data)\n",
        "\n",
        "buttons_hbox = HBox([upload_button, recognize_button, clear_button])\n",
        "display(buttons_hbox)"
      ],
      "metadata": {
        "id": "chRPE5NEIGXw"
      },
      "execution_count": null,
      "outputs": []
    }
  ],
  "metadata": {
    "accelerator": "GPU",
    "colab": {
      "gpuType": "T4",
      "provenance": []
    },
    "kernelspec": {
      "display_name": "Python 3",
      "name": "python3"
    },
    "language_info": {
      "name": "python"
    }
  },
  "nbformat": 4,
  "nbformat_minor": 0
}