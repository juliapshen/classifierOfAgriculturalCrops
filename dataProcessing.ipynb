{
  "cells": [
    {
      "cell_type": "code",
      "execution_count": null,
      "metadata": {
        "id": "FEcx-0GSveVh"
      },
      "outputs": [],
      "source": [
        "import os\n",
        "import cv2\n",
        "import numpy as np\n",
        "import shutil\n",
        "import random\n",
        "import tensorflow as tf\n",
        "from PIL import Image\n",
        "import tifffile as tiff\n",
        "from imgaug import augmenters as iaa\n",
        "from imgaug.augmenters import Sequential\n"
      ]
    },
    {
      "cell_type": "code",
      "execution_count": null,
      "metadata": {
        "id": "XqKEZKbnuduw"
      },
      "outputs": [],
      "source": [
        "from google.colab import drive\n",
        "drive.mount('/content/drive')\n",
        "\n",
        "!ls \"/content/drive/My Drive\""
      ]
    },
    {
      "cell_type": "markdown",
      "source": [
        "Объявляем пути к файлам с исходными данными."
      ],
      "metadata": {
        "id": "Cm8yQjVVyDP8"
      }
    },
    {
      "cell_type": "code",
      "execution_count": null,
      "metadata": {
        "id": "JDzxt8h7vVXo"
      },
      "outputs": [],
      "source": [
        "base_dir = '/content/drive/MyDrive/tiff/'\n",
        "base_dir_tiff = os.path.join(base_dir,'tif_data')\n",
        "base_dir_new ='/content/drive/MyDrive/tiff/new_tif_data'\n",
        "#каталог с данными для обучения\n",
        "train_dir = os.path.join(base_dir, 'train')\n",
        "#каталог с данными для проверки\n",
        "validation_dir = os.path.join(base_dir, 'val')\n",
        "#каталог с данными для тестирования\n",
        "test_dir = os.path.join(base_dir, 'test')"
      ]
    },
    {
      "cell_type": "markdown",
      "source": [
        " Функция вывода информации о цветовом пространстве изображения"
      ],
      "metadata": {
        "id": "sDhTM6m9bd27"
      }
    },
    {
      "cell_type": "code",
      "source": [
        "def get_color_space(image_path):\n",
        "    with Image.open(image_path) as img:\n",
        "        return img.mode\n",
        "\n",
        "image_path = \"/content/01_06_2023_3_1.tif\"\n",
        "color_space = get_color_space(image_path)\n",
        "print(\"Цветовое пространство изображения:\", color_space)"
      ],
      "metadata": {
        "id": "63OeBd0E9ui5"
      },
      "execution_count": null,
      "outputs": []
    },
    {
      "cell_type": "markdown",
      "source": [
        "Функция вывода информации о размерах изображений"
      ],
      "metadata": {
        "id": "yI9OrCYmb0bE"
      }
    },
    {
      "cell_type": "code",
      "source": [
        "def get_size_image(path, folders):\n",
        "    for folder in folders:\n",
        "        print(f\"Для папки {folder}:\")\n",
        "        folder_path = f'{path}/{folder}'\n",
        "\n",
        "        smallest_size = None\n",
        "        largest_size = None\n",
        "        sum_sizes = 0\n",
        "        num_images = 0\n",
        "\n",
        "        for filename in os.listdir(folder_path):\n",
        "            if filename.endswith(\".tif\"):\n",
        "                with Image.open(os.path.join(folder_path, filename)) as img:\n",
        "                    size = img.size\n",
        "                    sum_sizes += size[0] * size[1]\n",
        "                    num_images += 1\n",
        "                    if smallest_size is None or size[0] * size[1] < smallest_size[0] * smallest_size[1]:\n",
        "                        smallest_size = size\n",
        "                    if largest_size is None or size[0] * size[1] > largest_size[0] * largest_size[1]:\n",
        "                        largest_size = size\n",
        "\n",
        "        if smallest_size:\n",
        "            print(f\"\\tСамый маленький размер изображения: {smallest_size}\")\n",
        "        else:\n",
        "            print(\"\\tНет изображений для определения самого маленького размера.\")\n",
        "        if largest_size:\n",
        "            print(f\"\\tСамый большой размер изображения: {largest_size}\")\n",
        "        else:\n",
        "            print(\"\\tНет изображений для определения самого большого размера.\")\n",
        "        if num_images > 0:\n",
        "            average_size = sum_sizes / num_images\n",
        "            print(f\"\\tСредний размер изображений: {round(average_size, 3)}\")\n",
        "        else:\n",
        "            print(\"\\tНет изображений для расчета среднего размера.\")\n",
        "        print()"
      ],
      "metadata": {
        "id": "cX-63T_EhZoc"
      },
      "execution_count": null,
      "outputs": []
    },
    {
      "cell_type": "code",
      "source": [
        "folders = ['tiff_3', 'tiff_4', 'tiff_5', 'tiff_6']\n",
        "get_size_image(base_dir_tiff, folders)"
      ],
      "metadata": {
        "id": "cDpDI5NOrlre"
      },
      "execution_count": null,
      "outputs": []
    },
    {
      "cell_type": "markdown",
      "source": [
        "Функция расчета количества файлов в определенном диапазоне размеров"
      ],
      "metadata": {
        "id": "jYG0j-npb5Os"
      }
    },
    {
      "cell_type": "code",
      "source": [
        "def count_image_sizes(folder_path):\n",
        "    for filename in os.listdir(folder_path):\n",
        "\n",
        "        sizes_count = {\n",
        "        '215000-225000': 0, '205000-215000': 0, '195000-205000': 0, '185000-195000': 0, '175000-185000': 0,\n",
        "        '165000-175000': 0, '155000-165000': 0, '145000-155000': 0, '135000-145000': 0, '125000-135000': 0,\n",
        "        '115000-125000': 0, '105000-115000': 0, '95000-105000': 0, '85000-95000': 0, '75000-85000': 0,\n",
        "        '65000-75000': 0, '55000-65000': 0, '45000-55000': 0, '35000-45000': 0, '25000-35000': 0,\n",
        "        '15000-25000': 0, '10000-15000': 0, '5000-10000': 0, '2500-5000': 0, '1500-2500': 0,\n",
        "        '1000-1500': 0, '500-1000': 0, '250-500': 0, '0-250': 0\n",
        "        }\n",
        "        dir_name = os.path.join(folder_path, filename)\n",
        "        for dir_entry in os.listdir(dir_name):\n",
        "            if dir_entry.endswith('.tiff') or dir_entry.endswith('.tif'):\n",
        "                image_path = os.path.join(dir_name, dir_entry)\n",
        "                img = tiff.imread(image_path)\n",
        "                height, width = img.shape[:2]\n",
        "                img_size = height * width\n",
        "\n",
        "                for size_range, count in sizes_count.items():\n",
        "                    start, end = map(int, size_range.split('-'))\n",
        "                    if start <= img_size < end:\n",
        "                        sizes_count[size_range] += 1\n",
        "                        break\n",
        "\n",
        "\n",
        "        print(f\"Результаты подсчета размеров изображений в папке {dir_name}:\")\n",
        "        for size_range, count in sizes_count.items():\n",
        "            if count > 0:\n",
        "                print(f\"Размер {size_range} пикселей: {count} изображений\")\n",
        "\n",
        "        valid_sizes = {size: count for size, count in sizes_count.items() if count > 0}\n",
        "\n",
        "        top_5_sizes = sorted(valid_sizes.items(), key=lambda x: x[1], reverse=True)[:5]\n",
        "        print(f\"5 самых больших значений (не равных 0) в папке {filename}:\")\n",
        "        for size, count in top_5_sizes:\n",
        "            print(f\"{size}: {count} изображений\")\n",
        "        print()"
      ],
      "metadata": {
        "id": "BX2Qp8fDwdBQ"
      },
      "execution_count": null,
      "outputs": []
    },
    {
      "cell_type": "code",
      "source": [
        "count_image_sizes(base_dir_tiff)"
      ],
      "metadata": {
        "id": "z1vIdzEnwth1"
      },
      "execution_count": null,
      "outputs": []
    },
    {
      "cell_type": "markdown",
      "source": [
        "Функция get_size (data_dir) для получения количества файлов в папке."
      ],
      "metadata": {
        "id": "LAbNdRXssFWm"
      }
    },
    {
      "cell_type": "code",
      "execution_count": null,
      "metadata": {
        "id": "n9_KjycsyycO"
      },
      "outputs": [],
      "source": [
        "def get_size (dir_name):\n",
        "    for culture_folder_name in os.listdir(dir_name):\n",
        "        culture_folder_path = dir_name + \"/\" + culture_folder_name\n",
        "        file_count = len(os.listdir(culture_folder_path))\n",
        "        print(f'Количество файлов в папке {culture_folder_name}: {file_count}')"
      ]
    },
    {
      "cell_type": "code",
      "execution_count": null,
      "metadata": {
        "id": "RF6HPOts_C5x"
      },
      "outputs": [],
      "source": [
        "get_size (base_dir_tiff)"
      ]
    },
    {
      "cell_type": "code",
      "execution_count": null,
      "metadata": {
        "id": "GC7E7_AIM1wp"
      },
      "outputs": [],
      "source": [
        "# размеры изображения\n",
        "img_width, img_height = 122, 122"
      ]
    },
    {
      "cell_type": "markdown",
      "source": [
        "Функция обработки изображений"
      ],
      "metadata": {
        "id": "KOQy8YyYcmFz"
      }
    },
    {
      "cell_type": "code",
      "source": [
        "def processing_of_images(image_path, output_path):\n",
        "    image = cv2.imread(image_path, cv2.IMREAD_UNCHANGED)\n",
        "    normalized_image = cv2.normalize(image, None, 0, 65535, cv2.NORM_MINMAX)\n",
        "    resized_image = cv2.resize(normalized_image, (img_width, img_height), interpolation=cv2.INTER_CUBIC)\n",
        "    clahe = cv2.createCLAHE(clipLimit=2.0, tileGridSize=(4, 4))\n",
        "    clahe_image = clahe.apply(resized_image)\n",
        "    resized_image_pil = Image.fromarray(clahe_image)\n",
        "    resized_image_pil.save(output_path, \"PNG\", compress_level=0, bits=16)\n"
      ],
      "metadata": {
        "id": "vEMJSXSES_wf"
      },
      "execution_count": null,
      "outputs": []
    },
    {
      "cell_type": "code",
      "execution_count": null,
      "metadata": {
        "id": "KqtYbEuca45R"
      },
      "outputs": [],
      "source": [
        "for culture_folder in os.listdir(base_dir_tiff):\n",
        "    culture_folder_name = os.path.join(base_dir_tiff, culture_folder)\n",
        "    for culture_image in os.listdir(culture_folder_name):\n",
        "      if culture_image.endswith(\".tif\"):\n",
        "        image_path = os.path.join(culture_folder_name,culture_image)\n",
        "        out = os.path.join(base_dir_new,culture_folder, culture_image.split('.')[0] + '.png')\n",
        "        processing_of_images(image_path,out)\n"
      ]
    },
    {
      "cell_type": "markdown",
      "source": [
        "Разделение файлов на обучающую, проверочную и тестовую выборки."
      ],
      "metadata": {
        "id": "r9s4mA97uAKC"
      }
    },
    {
      "cell_type": "code",
      "execution_count": null,
      "metadata": {
        "id": "WvVJjmK20KXL"
      },
      "outputs": [],
      "source": [
        "source_folders = ['tiff_3', 'tiff_4', 'tiff_5', 'tiff_6']\n",
        "\n",
        "total_files = {}\n",
        "for folder in source_folders:\n",
        "    file_count = len(os.listdir(f'{base_dir_new}/{folder}'))\n",
        "    total_files[folder] = file_count\n",
        "\n",
        "train_ratio = 0.7\n",
        "val_ratio = 0.15\n",
        "test_ratio = 0.15\n",
        "\n",
        "train_files = {}\n",
        "val_files = {}\n",
        "test_files = {}\n",
        "\n",
        "for folder in source_folders:\n",
        "    file_list = os.listdir(f'{base_dir_new}/{folder}')\n",
        "    random.shuffle(file_list)\n",
        "\n",
        "    train_count = int(train_ratio * total_files[folder])\n",
        "    val_count = int(val_ratio * total_files[folder])\n",
        "    test_count = total_files[folder] - train_count - val_count\n",
        "\n",
        "    train_files[folder] = file_list[:train_count]\n",
        "    val_files[folder] = file_list[train_count:train_count+val_count]\n",
        "    test_files[folder] = file_list[train_count+val_count:]\n",
        "\n",
        "    for target_folder in ['train', 'val', 'test']:\n",
        "        os.makedirs(f'{base_dir}/{target_folder}/{folder}', exist_ok=True)\n",
        "\n",
        "    for file in train_files[folder]:\n",
        "        shutil.copy(f'{base_dir_new}/{folder}/{file}', f'{train_dir}/{folder}/{file}')\n",
        "    for file in val_files[folder]:\n",
        "        shutil.copy(f'{base_dir_new}/{folder}/{file}', f'{validation_dir}/{folder}/{file}')\n",
        "    for file in test_files[folder]:\n",
        "        shutil.copy(f'{base_dir_new}/{folder}/{file}', f'{test_dir}/{folder}/{file}')"
      ]
    },
    {
      "cell_type": "markdown",
      "source": [
        "Функция аугментации"
      ],
      "metadata": {
        "id": "AkrdgRhDcveG"
      }
    },
    {
      "cell_type": "code",
      "source": [
        "def apply_transformations(path):\n",
        "    image_files = [f for f in os.listdir(path) if f.endswith(\".png\") and \"augmented\" not in f]\n",
        "    aug = Sequential([\n",
        "        iaa.Affine(rotate=(-25, 25), translate_percent={\"x\": (-0.05, 0.05), \"y\": (-0.05, 0.05)}),\n",
        "        iaa.PerspectiveTransform(scale=(0.01, 0.10))\n",
        "        ])\n",
        "    for idx, filename in enumerate(image_files):\n",
        "        image = cv2.imread(os.path.join(path, filename))\n",
        "        augmented_image = aug.augment_image(image)\n",
        "        new_image_path = f'{os.path.splitext(filename)[0]}_augmented.png'\n",
        "        cv2.imwrite(os.path.join(path, new_image_path), augmented_image)"
      ],
      "metadata": {
        "id": "aAgjiuLciNaW"
      },
      "execution_count": null,
      "outputs": []
    },
    {
      "cell_type": "code",
      "source": [
        "path_tiff_folders = ['tiff_3', 'tiff_4', 'tiff_5', 'tiff_6']\n",
        "for folder_name in path_tiff_folders:\n",
        "    folder_path = os.path.join('/content/drive/MyDrive/tiff/train', folder_name)\n",
        "    if os.path.exists(folder_path) and os.path.isdir(folder_path):\n",
        "        apply_transformations(folder_path)\n",
        "    else:\n",
        "        print(f\"Папка {folder_name} не найдена или не является директорией.\")\n"
      ],
      "metadata": {
        "id": "hpQXuo-biT_2"
      },
      "execution_count": null,
      "outputs": []
    },
    {
      "cell_type": "markdown",
      "source": [
        "Создание директорий для подмножеств"
      ],
      "metadata": {
        "id": "lOFksQB4cyxT"
      }
    },
    {
      "cell_type": "code",
      "source": [
        "for i in range(1, 5):\n",
        "  work_dir = os.path.join(base_dir, f'work_{i}')\n",
        "  os.makedirs(work_dir, exist_ok=True)"
      ],
      "metadata": {
        "id": "GyczlZ5cpTHh"
      },
      "execution_count": null,
      "outputs": []
    },
    {
      "cell_type": "markdown",
      "source": [
        "Функция копирования файлов целевых классов"
      ],
      "metadata": {
        "id": "Y4ron9AUdi0M"
      }
    },
    {
      "cell_type": "code",
      "source": [
        "def copy_files(base_dir, data_type, tiff_num, current_dir):\n",
        "    tiff_all_dir = os.path.join(current_dir, 'tiff_all')\n",
        "    os.makedirs(tiff_all_dir, exist_ok=True)\n",
        "\n",
        "    shutil.copytree(os.path.join(base_dir, data_type, f'tiff_{tiff_num}'),\n",
        "                    os.path.join(current_dir, f'tiff_{tiff_num}'))\n"
      ],
      "metadata": {
        "id": "1k7eUTrKp7bU"
      },
      "execution_count": null,
      "outputs": []
    },
    {
      "cell_type": "markdown",
      "source": [
        "Функция копирования файлов нецелевых классов"
      ],
      "metadata": {
        "id": "Cte7SIiCdnsv"
      }
    },
    {
      "cell_type": "code",
      "source": [
        "def select_and_copy_files(base_dir, data_type, nums, current_dir):\n",
        "    all_files = []\n",
        "    for tiff_num in nums:\n",
        "        all_files.extend([os.path.join(base_dir, data_type,f'tiff_{tiff_num}', file)\n",
        "        for file in os.listdir(os.path.join(base_dir, data_type, f'tiff_{tiff_num}'))])\n",
        "\n",
        "    selected_files = random.sample(all_files, k=int(0.33 * len(all_files)))\n",
        "    random.shuffle(selected_files)\n",
        "\n",
        "    tiff_all_dir = os.path.join(current_dir, 'tiff_all')\n",
        "    os.makedirs(tiff_all_dir, exist_ok=True)\n",
        "\n",
        "    for file_path in selected_files:\n",
        "        shutil.copyfile(file_path, os.path.join(tiff_all_dir, os.path.basename(file_path)))\n"
      ],
      "metadata": {
        "id": "btwSD0T0qACL"
      },
      "execution_count": null,
      "outputs": []
    },
    {
      "cell_type": "code",
      "source": [
        "nums_dict = {1: ['4', '5', '6'], 2: ['3', '5', '6'], 3: ['3', '4', '6'], 4: ['3', '4', '5']}\n",
        "tiff_nums = {1:3, 2:4, 3:5, 4:6}\n",
        "\n",
        "for i in range(1, 5):\n",
        "    work_dir = os.path.join(base_dir, f'work_{i}')\n",
        "\n",
        "    for data_type in ['train', 'test', 'val']:\n",
        "        current_dir = os.path.join(work_dir, data_type)\n",
        "\n",
        "        copy_files(base_dir, data_type, tiff_nums.get(i), current_dir)\n",
        "        select_and_copy_files(base_dir, data_type, nums_dict.get(i), current_dir)"
      ],
      "metadata": {
        "id": "bZeXSbnjqlCc"
      },
      "execution_count": null,
      "outputs": []
    }
  ],
  "metadata": {
    "colab": {
      "provenance": [],
      "gpuType": "T4"
    },
    "kernelspec": {
      "display_name": "Python 3",
      "name": "python3"
    },
    "language_info": {
      "name": "python"
    },
    "accelerator": "GPU"
  },
  "nbformat": 4,
  "nbformat_minor": 0
}