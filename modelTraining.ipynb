{
  "cells": [
    {
      "cell_type": "code",
      "execution_count": 1,
      "metadata": {
        "id": "FEcx-0GSveVh"
      },
      "outputs": [],
      "source": [
        "import os\n",
        "import cv2\n",
        "import numpy as np\n",
        "import shutil\n",
        "import random\n",
        "import tensorflow as tf\n",
        "from tensorflow.keras.preprocessing.image import ImageDataGenerator\n",
        "import tifffile\n",
        "from tensorflow.keras import layers, models\n",
        "from tensorflow.keras import optimizers\n",
        "from tensorflow.keras.layers import Activation, Dropout, Flatten, Dense, GlobalAveragePooling2D, BatchNormalization, Conv2D, MaxPooling2D, Lambda\n",
        "import matplotlib.pylab as plt\n",
        "from keras.optimizers import Adam\n",
        "from tensorflow.keras import metrics\n",
        "from sklearn.metrics import confusion_matrix\n",
        "import pandas as pd\n",
        "import seaborn as sns\n",
        "from sklearn.metrics import classification_report\n",
        "from tensorflow.keras.callbacks import LearningRateScheduler\n",
        "from tensorflow.keras.metrics import Recall, Precision, BinaryAccuracy\n",
        "from tensorflow.keras.callbacks import ModelCheckpoint, EarlyStopping\n",
        "from tensorflow.keras.models import Sequential\n",
        "from tensorflow.keras.applications import VGG19\n",
        "from tensorflow.keras.optimizers import Adam"
      ]
    },
    {
      "cell_type": "code",
      "execution_count": 3,
      "metadata": {
        "colab": {
          "base_uri": "https://localhost:8080/"
        },
        "id": "xrFGkbZTNrsR",
        "outputId": "2cc3c8e8-fc5d-421a-86f0-0d0eddc8f30c"
      },
      "outputs": [
        {
          "output_type": "stream",
          "name": "stdout",
          "text": [
            "Mounted at /content/drive\n",
            " 1\t\t      'test_1506 (2)'\t val_1506\t  'work1506_4 (1)'\n",
            " 13_07_2023_6_16.tif   test_new\t\t'val_1506 (1)'\t   worknew_1\n",
            " 13_07_2023_6_41.png   tiff\t\t'val_1506 (2)'\t   worknew_2\n",
            " archive.zip\t      'tiff (1)'\t val_new\t   worknew_3\n",
            " coco.names\t       tiff_3\t\t work1506_1\t   worknew_4\n",
            "'Colab Notebooks'      tiff_4\t\t'work1506_1 (1)'   yolov4.cfg\n",
            " datasets\t       tiff_5\t\t work1506_2\t   yolov4.weights\n",
            " image.jpg\t       tiff_6\t\t'work1506_2 (1)'  'Лабораторная работа 4'\n",
            " PH2Dataset.rar        train_1506\t work1506_3\t  'Лабораторная работа 4.zip'\n",
            " test_1506\t      'train_1506 (1)'\t'work1506_3 (1)'   Сбер\n",
            "'test_1506 (1)'       'train_1506 (2)'\t work1506_4\t   Снимки_tif\n"
          ]
        }
      ],
      "source": [
        "from google.colab import drive\n",
        "drive.mount('/content/drive')\n",
        "\n",
        "!ls \"/content/drive/My Drive\""
      ]
    },
    {
      "cell_type": "markdown",
      "metadata": {
        "id": "Cm8yQjVVyDP8"
      },
      "source": [
        "Объявляем пути к файлам с исходными данными"
      ]
    },
    {
      "cell_type": "code",
      "execution_count": 4,
      "metadata": {
        "id": "JDzxt8h7vVXo"
      },
      "outputs": [],
      "source": [
        "base_dir = '/content/drive/MyDrive/tiff/tiff'"
      ]
    },
    {
      "cell_type": "markdown",
      "metadata": {
        "id": "T6cOeHMJyOFw"
      },
      "source": [
        "Объявляем гипер-параметры"
      ]
    },
    {
      "cell_type": "code",
      "execution_count": 5,
      "metadata": {
        "id": "GC7E7_AIM1wp"
      },
      "outputs": [],
      "source": [
        "# размеры изображения\n",
        "img_width, img_height = 122,122\n",
        "# размерность тензора\n",
        "input_shape = (img_width, img_height,3)\n",
        "# количество эпох\n",
        "epochs = 50\n",
        "# размер мини-выборки\n",
        "batch_size = 64"
      ]
    },
    {
      "cell_type": "markdown",
      "source": [
        "Функция визуализации результатов обучения моделей"
      ],
      "metadata": {
        "id": "1wzkTLV8iFkb"
      }
    },
    {
      "cell_type": "code",
      "execution_count": 6,
      "metadata": {
        "id": "sMsq3Fd3GADm"
      },
      "outputs": [],
      "source": [
        "def plot_and_save_results(model_vgg, history, i):\n",
        "\n",
        "    test_loss, test_accuracy, test_recall, test_precision = model_vgg.evaluate(test_generator_aug)\n",
        "    print('\\nВывод метрик:\\n')\n",
        "    print('\\nОбщая точность предсказания по всем классам accuracy на тестовом наборе данных для модели ', i, ':', test_accuracy)\n",
        "    print('\\nПотери на тестовом наборе данных для модели ', i, ':', test_loss)\n",
        "    print('\\nПолнота recall на тестовом наборе данных для модели ', i, ':', test_recall)\n",
        "    print('\\nТочность precision на тестовом наборе данных для модели ', i, ':', test_precision)\n",
        "\n",
        "# График точности на обучающей и валидационной выборке\n",
        "    plt.figure(figsize=(10,6), dpi=90)\n",
        "    plt.plot(history.history['binary_accuracy'])\n",
        "    plt.plot(history.history['val_binary_accuracy'])\n",
        "    plt.title('Model Accuracy')\n",
        "    plt.xlabel('Epoch')\n",
        "    plt.ylabel('Accuracy')\n",
        "    plt.legend(['train', 'validation'], loc='upper left')\n",
        "    plt.savefig(f\"/content/drive/MyDrive/Снимки_tif/weights/accuracy_png_model_{i}.png\", dpi=300)\n",
        "    plt.show()\n",
        "\n",
        "# График потерь на обучающей и валидационной выборке\n",
        "    plt.figure(figsize=(10,6), dpi=90)\n",
        "    plt.plot(history.history['loss'])\n",
        "    plt.plot(history.history['val_loss'])\n",
        "    plt.title('Model Loss')\n",
        "    plt.xlabel('Epoch')\n",
        "    plt.ylabel('Loss')\n",
        "    plt.legend(['train', 'validation'], loc='upper left')\n",
        "    plt.savefig(f\"/content/drive/MyDrive/Снимки_tif/weights/loss_png_model_{i}.png\", dpi=300)\n",
        "    plt.show()\n",
        "\n",
        "    # Получение предсказаний модели на тестовом наборе данных\n",
        "    predictions = model_vgg.predict(test_generator_aug)\n",
        "\n",
        "    # Преобразование вероятностей в метки классов\n",
        "    predicted_labels = np.argmax(predictions, axis=1)\n",
        "    true_labels = test_generator_aug.classes\n",
        "\n",
        "    # Создаем кросс-матрицу\n",
        "    cm = confusion_matrix(true_labels, predicted_labels)\n",
        "\n",
        "    # Визуализируем кросс-матрицу с помощью тепловой карты\n",
        "    plt.figure(figsize=(8, 6))\n",
        "    sns.heatmap(cm, annot=True, fmt=\"d\", cmap=\"Blues\")\n",
        "    plt.xlabel('Predicted labels')\n",
        "    plt.ylabel('True labels')\n",
        "    plt.title(f'Confusion Matrix Model {i}')\n",
        "    plt.show()\n",
        "    plt.savefig(f\"/content/drive/MyDrive/Снимки_tif/weights/matrix_png_model_{i}.png\", dpi=300)\n"
      ]
    },
    {
      "cell_type": "markdown",
      "source": [
        "Функция динамического изменения параметра learning rate"
      ],
      "metadata": {
        "id": "cHvtghAwhIbH"
      }
    },
    {
      "cell_type": "code",
      "execution_count": 7,
      "metadata": {
        "id": "yXtZxcqeiTSa"
      },
      "outputs": [],
      "source": [
        "def lr_schedule(epoch, lr):\n",
        "  if epoch % 15 == 0 and epoch != 0:\n",
        "    lr = lr * 0.1\n",
        "  return lr"
      ]
    },
    {
      "cell_type": "code",
      "execution_count": 8,
      "metadata": {
        "id": "C8oiNZPrWHAX"
      },
      "outputs": [],
      "source": [
        "lr_scheduler = LearningRateScheduler(lr_schedule)"
      ]
    },
    {
      "cell_type": "markdown",
      "source": [
        "Функция создания модели нейронной сети"
      ],
      "metadata": {
        "id": "oUYGpLRjGKPU"
      }
    },
    {
      "cell_type": "code",
      "execution_count": null,
      "metadata": {
        "id": "8_myox0_GADn"
      },
      "outputs": [],
      "source": [
        "# Загрузка предобученной модели VGG19 без fully connected слоя\n",
        "base_model_vgg = VGG19(weights='imagenet', include_top=False, input_shape=input_shape)\n",
        "\n",
        "  # Замораживаем все слои\n",
        "for layer in base_model_vgg.layers:\n",
        "  layer.trainable = False\n",
        "\n",
        "  # Размораживаем верхние слои (например, с 15-го слоя и выше)\n",
        "for layer in base_model_vgg.layers[15:]:\n",
        "  layer.trainable = True\n",
        "\n",
        "# Создание новой модели на основе предобученной модели\n",
        "model_vgg = Sequential()\n",
        "model_vgg.add(base_model_vgg)\n",
        "model_vgg.add(Flatten())\n",
        "model_vgg.add(Dense(1024, activation='relu'))\n",
        "model_vgg.add(BatchNormalization())\n",
        "model_vgg.add(Dropout(0.4))\n",
        "model_vgg.add(Dense(512, activation='relu'))\n",
        "model_vgg.add(BatchNormalization())\n",
        "model_vgg.add(Dropout(0.4))\n",
        "model_vgg.add(Dense(256, activation='relu'))\n",
        "model_vgg.add(BatchNormalization())\n",
        "model_vgg.add(Dropout(0.4))\n",
        "\n",
        "model_vgg.add(Dense(1, activation='sigmoid', kernel_regularizer=tf.keras.regularizers.l2(0.01)))\n",
        "\n",
        "model_vgg.compile(optimizer=Adam(learning_rate=0.00001),\n",
        "                  loss='binary_crossentropy',\n",
        "                  metrics=[tf.keras.metrics.BinaryAccuracy(), tf.keras.metrics.Recall(), tf.keras.metrics.Precision()])\n",
        "\n",
        "model_vgg.summary()"
      ]
    },
    {
      "cell_type": "code",
      "source": [
        "train_folders = ['work_1', 'work_2', 'work_3', 'work_4']\n",
        "\n",
        "i = 1\n",
        "for folder in train_folders:\n",
        "\n",
        "    train_dir = os.path.join(base_dir, folder, 'train')\n",
        "    validation_dir = os.path.join(base_dir, folder, 'val')\n",
        "    test_dir = os.path.join(base_dir, folder, 'test')\n",
        "\n",
        "    train_datagen_aug = ImageDataGenerator()\n",
        "    validation_datagen_aug = ImageDataGenerator()\n",
        "    test_datagen_aug = ImageDataGenerator()\n",
        "\n",
        "    train_generator_aug = train_datagen_aug.flow_from_directory(\n",
        "        train_dir,\n",
        "        target_size=(img_width, img_height),\n",
        "        batch_size=batch_size,\n",
        "        class_mode='binary'\n",
        "    )\n",
        "    test_generator_aug = test_datagen_aug.flow_from_directory(\n",
        "        test_dir,\n",
        "        target_size=(img_width, img_height),\n",
        "        batch_size=batch_size,\n",
        "        class_mode='binary'\n",
        "    )\n",
        "\n",
        "    validation_generator_aug = validation_datagen_aug.flow_from_directory(\n",
        "        validation_dir,\n",
        "        target_size=(img_width, img_height),\n",
        "        batch_size=batch_size,\n",
        "        class_mode='binary'\n",
        "    )\n",
        "\n",
        "\n",
        "    history_vgg_aug = model_vgg.fit(\n",
        "        train_generator_aug,\n",
        "        steps_per_epoch=train_generator_aug.samples // train_generator_aug.batch_size,\n",
        "        validation_data=validation_generator_aug,\n",
        "        validation_steps=validation_generator_aug.samples // validation_generator_aug.batch_size,\n",
        "        epochs=epochs,\n",
        "        callbacks=[lr_scheduler]\n",
        "    )\n",
        "\n",
        "    model_vgg.save_weights('/content/drive/MyDrive/Снимки_tif/weights/model_vgg19_{}.weights.h5'.format(i))\n",
        "\n",
        "\n",
        "    plot_and_save_results(model_vgg, history_vgg_aug, i)\n",
        "\n",
        "    i += 1"
      ],
      "metadata": {
        "id": "Zsk1b-5VjIBc"
      },
      "execution_count": null,
      "outputs": []
    }
  ],
  "metadata": {
    "accelerator": "GPU",
    "colab": {
      "gpuType": "T4",
      "provenance": []
    },
    "kaggle": {
      "accelerator": "gpu",
      "dataSources": [
        {
          "datasetId": 4925816,
          "sourceId": 8291843,
          "sourceType": "datasetVersion"
        },
        {
          "datasetId": 4932620,
          "sourceId": 8303029,
          "sourceType": "datasetVersion"
        }
      ],
      "dockerImageVersionId": 30699,
      "isGpuEnabled": true,
      "isInternetEnabled": true,
      "language": "python",
      "sourceType": "notebook"
    },
    "kernelspec": {
      "display_name": "Python 3",
      "name": "python3"
    },
    "language_info": {
      "codemirror_mode": {
        "name": "ipython",
        "version": 3
      },
      "file_extension": ".py",
      "mimetype": "text/x-python",
      "name": "python",
      "nbconvert_exporter": "python",
      "pygments_lexer": "ipython3",
      "version": "3.10.13"
    }
  },
  "nbformat": 4,
  "nbformat_minor": 0
}